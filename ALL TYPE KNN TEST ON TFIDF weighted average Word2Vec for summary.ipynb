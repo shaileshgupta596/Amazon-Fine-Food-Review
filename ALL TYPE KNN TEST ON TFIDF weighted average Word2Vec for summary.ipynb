{
 "cells": [
  {
   "cell_type": "code",
   "execution_count": 1,
   "metadata": {},
   "outputs": [
    {
     "name": "stderr",
     "output_type": "stream",
     "text": [
      "C:\\Users\\harinarayan\\Anaconda3\\lib\\site-packages\\gensim\\utils.py:862: UserWarning: detected Windows; aliasing chunkize to chunkize_serial\n",
      "  warnings.warn(\"detected Windows; aliasing chunkize to chunkize_serial\")\n"
     ]
    }
   ],
   "source": [
    "#importing the required libraries\n",
    "import numpy as np\n",
    "import pandas as pd\n",
    "import matplotlib.pyplot as plt\n",
    "import seaborn as sns\n",
    "%matplotlib inline\n",
    "import pickle   "
   ]
  },
  {
   "cell_type": "code",
   "execution_count": 2,
   "metadata": {},
   "outputs": [
    {
     "name": "stderr",
     "output_type": "stream",
     "text": [
      "C:\\Users\\harinarayan\\Anaconda3\\lib\\site-packages\\sklearn\\cross_validation.py:41: DeprecationWarning: This module was deprecated in version 0.18 in favor of the model_selection module into which all the refactored classes and functions are moved. Also note that the interface of the new CV iterators are different from that of this module. This module will be removed in 0.20.\n",
      "  \"This module will be removed in 0.20.\", DeprecationWarning)\n"
     ]
    }
   ],
   "source": [
    "from sklearn.preprocessing import StandardScaler\n",
    "from sklearn.cross_validation import train_test_split\n",
    "from sklearn.cross_validation import cross_val_score\n",
    "from sklearn.neighbors import KNeighborsClassifier\n",
    "from matplotlib.colors import ListedColormap\n",
    "from sklearn.metrics import accuracy_score"
   ]
  },
  {
   "cell_type": "markdown",
   "metadata": {},
   "source": [
    "### LOADING FINAL DATA"
   ]
  },
  {
   "cell_type": "code",
   "execution_count": 3,
   "metadata": {
    "collapsed": true
   },
   "outputs": [],
   "source": [
    "with open('final_analysis_file.pkl', 'rb') as pickle_file:\n",
    "    final=pickle.load( pickle_file)"
   ]
  },
  {
   "cell_type": "code",
   "execution_count": 4,
   "metadata": {},
   "outputs": [
    {
     "data": {
      "text/plain": [
       "(60000, 52)"
      ]
     },
     "execution_count": 4,
     "metadata": {},
     "output_type": "execute_result"
    }
   ],
   "source": [
    "final.shape"
   ]
  },
  {
   "cell_type": "code",
   "execution_count": 5,
   "metadata": {},
   "outputs": [
    {
     "data": {
      "text/html": [
       "<div>\n",
       "<style>\n",
       "    .dataframe thead tr:only-child th {\n",
       "        text-align: right;\n",
       "    }\n",
       "\n",
       "    .dataframe thead th {\n",
       "        text-align: left;\n",
       "    }\n",
       "\n",
       "    .dataframe tbody tr th {\n",
       "        vertical-align: top;\n",
       "    }\n",
       "</style>\n",
       "<table border=\"1\" class=\"dataframe\">\n",
       "  <thead>\n",
       "    <tr style=\"text-align: right;\">\n",
       "      <th></th>\n",
       "      <th>0</th>\n",
       "      <th>1</th>\n",
       "      <th>2</th>\n",
       "      <th>3</th>\n",
       "      <th>4</th>\n",
       "      <th>5</th>\n",
       "      <th>6</th>\n",
       "      <th>7</th>\n",
       "      <th>8</th>\n",
       "      <th>9</th>\n",
       "      <th>...</th>\n",
       "      <th>42</th>\n",
       "      <th>43</th>\n",
       "      <th>44</th>\n",
       "      <th>45</th>\n",
       "      <th>46</th>\n",
       "      <th>47</th>\n",
       "      <th>48</th>\n",
       "      <th>49</th>\n",
       "      <th>Time</th>\n",
       "      <th>s_Score</th>\n",
       "    </tr>\n",
       "  </thead>\n",
       "  <tbody>\n",
       "    <tr>\n",
       "      <th>0</th>\n",
       "      <td>0.177093</td>\n",
       "      <td>0.242106</td>\n",
       "      <td>0.056785</td>\n",
       "      <td>-0.108356</td>\n",
       "      <td>0.049898</td>\n",
       "      <td>0.365580</td>\n",
       "      <td>-0.230403</td>\n",
       "      <td>-0.282035</td>\n",
       "      <td>0.537327</td>\n",
       "      <td>0.315228</td>\n",
       "      <td>...</td>\n",
       "      <td>-0.688442</td>\n",
       "      <td>0.541719</td>\n",
       "      <td>0.343971</td>\n",
       "      <td>0.529262</td>\n",
       "      <td>0.202866</td>\n",
       "      <td>-0.640193</td>\n",
       "      <td>-0.069127</td>\n",
       "      <td>-0.008858</td>\n",
       "      <td>1300320000</td>\n",
       "      <td>1</td>\n",
       "    </tr>\n",
       "    <tr>\n",
       "      <th>1</th>\n",
       "      <td>0.335403</td>\n",
       "      <td>0.269931</td>\n",
       "      <td>-0.439159</td>\n",
       "      <td>-0.235786</td>\n",
       "      <td>-0.585301</td>\n",
       "      <td>-0.044164</td>\n",
       "      <td>-0.489693</td>\n",
       "      <td>0.145499</td>\n",
       "      <td>-0.221961</td>\n",
       "      <td>0.081096</td>\n",
       "      <td>...</td>\n",
       "      <td>-0.416241</td>\n",
       "      <td>-0.139369</td>\n",
       "      <td>0.128020</td>\n",
       "      <td>0.291305</td>\n",
       "      <td>-0.194745</td>\n",
       "      <td>-0.228211</td>\n",
       "      <td>0.087916</td>\n",
       "      <td>-0.058784</td>\n",
       "      <td>1345161600</td>\n",
       "      <td>1</td>\n",
       "    </tr>\n",
       "    <tr>\n",
       "      <th>2</th>\n",
       "      <td>-0.071428</td>\n",
       "      <td>0.418853</td>\n",
       "      <td>0.030652</td>\n",
       "      <td>-0.623154</td>\n",
       "      <td>-0.008004</td>\n",
       "      <td>0.430800</td>\n",
       "      <td>-0.101884</td>\n",
       "      <td>0.443732</td>\n",
       "      <td>-0.397712</td>\n",
       "      <td>1.164939</td>\n",
       "      <td>...</td>\n",
       "      <td>-0.348121</td>\n",
       "      <td>-0.404755</td>\n",
       "      <td>1.214722</td>\n",
       "      <td>-0.179276</td>\n",
       "      <td>-1.291663</td>\n",
       "      <td>-0.897769</td>\n",
       "      <td>-0.466101</td>\n",
       "      <td>-0.292461</td>\n",
       "      <td>1278374400</td>\n",
       "      <td>0</td>\n",
       "    </tr>\n",
       "    <tr>\n",
       "      <th>3</th>\n",
       "      <td>0.472152</td>\n",
       "      <td>0.529163</td>\n",
       "      <td>-0.007123</td>\n",
       "      <td>0.145510</td>\n",
       "      <td>-0.326849</td>\n",
       "      <td>-0.414855</td>\n",
       "      <td>-0.076689</td>\n",
       "      <td>-0.674746</td>\n",
       "      <td>-0.339968</td>\n",
       "      <td>0.669331</td>\n",
       "      <td>...</td>\n",
       "      <td>-0.694976</td>\n",
       "      <td>0.906715</td>\n",
       "      <td>-0.106348</td>\n",
       "      <td>-0.490650</td>\n",
       "      <td>0.080084</td>\n",
       "      <td>-0.358495</td>\n",
       "      <td>-0.278575</td>\n",
       "      <td>0.099384</td>\n",
       "      <td>1256169600</td>\n",
       "      <td>1</td>\n",
       "    </tr>\n",
       "    <tr>\n",
       "      <th>4</th>\n",
       "      <td>0.697582</td>\n",
       "      <td>0.652345</td>\n",
       "      <td>-0.234955</td>\n",
       "      <td>0.049723</td>\n",
       "      <td>0.136823</td>\n",
       "      <td>0.010255</td>\n",
       "      <td>-0.666608</td>\n",
       "      <td>-0.130333</td>\n",
       "      <td>0.921492</td>\n",
       "      <td>0.146175</td>\n",
       "      <td>...</td>\n",
       "      <td>-0.380073</td>\n",
       "      <td>0.235769</td>\n",
       "      <td>0.388563</td>\n",
       "      <td>0.243572</td>\n",
       "      <td>0.529020</td>\n",
       "      <td>-0.504115</td>\n",
       "      <td>-0.529403</td>\n",
       "      <td>0.222584</td>\n",
       "      <td>1348099200</td>\n",
       "      <td>1</td>\n",
       "    </tr>\n",
       "  </tbody>\n",
       "</table>\n",
       "<p>5 rows × 52 columns</p>\n",
       "</div>"
      ],
      "text/plain": [
       "          0         1         2         3         4         5         6  \\\n",
       "0  0.177093  0.242106  0.056785 -0.108356  0.049898  0.365580 -0.230403   \n",
       "1  0.335403  0.269931 -0.439159 -0.235786 -0.585301 -0.044164 -0.489693   \n",
       "2 -0.071428  0.418853  0.030652 -0.623154 -0.008004  0.430800 -0.101884   \n",
       "3  0.472152  0.529163 -0.007123  0.145510 -0.326849 -0.414855 -0.076689   \n",
       "4  0.697582  0.652345 -0.234955  0.049723  0.136823  0.010255 -0.666608   \n",
       "\n",
       "          7         8         9   ...           42        43        44  \\\n",
       "0 -0.282035  0.537327  0.315228   ...    -0.688442  0.541719  0.343971   \n",
       "1  0.145499 -0.221961  0.081096   ...    -0.416241 -0.139369  0.128020   \n",
       "2  0.443732 -0.397712  1.164939   ...    -0.348121 -0.404755  1.214722   \n",
       "3 -0.674746 -0.339968  0.669331   ...    -0.694976  0.906715 -0.106348   \n",
       "4 -0.130333  0.921492  0.146175   ...    -0.380073  0.235769  0.388563   \n",
       "\n",
       "         45        46        47        48        49        Time  s_Score  \n",
       "0  0.529262  0.202866 -0.640193 -0.069127 -0.008858  1300320000        1  \n",
       "1  0.291305 -0.194745 -0.228211  0.087916 -0.058784  1345161600        1  \n",
       "2 -0.179276 -1.291663 -0.897769 -0.466101 -0.292461  1278374400        0  \n",
       "3 -0.490650  0.080084 -0.358495 -0.278575  0.099384  1256169600        1  \n",
       "4  0.243572  0.529020 -0.504115 -0.529403  0.222584  1348099200        1  \n",
       "\n",
       "[5 rows x 52 columns]"
      ]
     },
     "execution_count": 5,
     "metadata": {},
     "output_type": "execute_result"
    }
   ],
   "source": [
    "final.head()"
   ]
  },
  {
   "cell_type": "markdown",
   "metadata": {},
   "source": [
    "### SORTING A DATA ACCORDING TO TIME"
   ]
  },
  {
   "cell_type": "code",
   "execution_count": 6,
   "metadata": {
    "collapsed": true
   },
   "outputs": [],
   "source": [
    "final_analysis_file=final.sort_values(\"Time\")"
   ]
  },
  {
   "cell_type": "code",
   "execution_count": 7,
   "metadata": {},
   "outputs": [
    {
     "data": {
      "text/html": [
       "<div>\n",
       "<style>\n",
       "    .dataframe thead tr:only-child th {\n",
       "        text-align: right;\n",
       "    }\n",
       "\n",
       "    .dataframe thead th {\n",
       "        text-align: left;\n",
       "    }\n",
       "\n",
       "    .dataframe tbody tr th {\n",
       "        vertical-align: top;\n",
       "    }\n",
       "</style>\n",
       "<table border=\"1\" class=\"dataframe\">\n",
       "  <thead>\n",
       "    <tr style=\"text-align: right;\">\n",
       "      <th></th>\n",
       "      <th>0</th>\n",
       "      <th>1</th>\n",
       "      <th>2</th>\n",
       "      <th>3</th>\n",
       "      <th>4</th>\n",
       "      <th>5</th>\n",
       "      <th>6</th>\n",
       "      <th>7</th>\n",
       "      <th>8</th>\n",
       "      <th>9</th>\n",
       "      <th>...</th>\n",
       "      <th>42</th>\n",
       "      <th>43</th>\n",
       "      <th>44</th>\n",
       "      <th>45</th>\n",
       "      <th>46</th>\n",
       "      <th>47</th>\n",
       "      <th>48</th>\n",
       "      <th>49</th>\n",
       "      <th>Time</th>\n",
       "      <th>s_Score</th>\n",
       "    </tr>\n",
       "  </thead>\n",
       "  <tbody>\n",
       "    <tr>\n",
       "      <th>38180</th>\n",
       "      <td>0.602437</td>\n",
       "      <td>0.717449</td>\n",
       "      <td>-0.631567</td>\n",
       "      <td>0.260387</td>\n",
       "      <td>0.330484</td>\n",
       "      <td>-0.055587</td>\n",
       "      <td>-0.389079</td>\n",
       "      <td>-0.270185</td>\n",
       "      <td>0.906017</td>\n",
       "      <td>0.195388</td>\n",
       "      <td>...</td>\n",
       "      <td>-0.251031</td>\n",
       "      <td>-0.041619</td>\n",
       "      <td>0.135714</td>\n",
       "      <td>0.076842</td>\n",
       "      <td>-0.736343</td>\n",
       "      <td>-0.281863</td>\n",
       "      <td>0.117228</td>\n",
       "      <td>-0.568302</td>\n",
       "      <td>944092800</td>\n",
       "      <td>1</td>\n",
       "    </tr>\n",
       "    <tr>\n",
       "      <th>49777</th>\n",
       "      <td>0.492333</td>\n",
       "      <td>-0.046621</td>\n",
       "      <td>0.293875</td>\n",
       "      <td>-0.097375</td>\n",
       "      <td>-0.173121</td>\n",
       "      <td>-0.026032</td>\n",
       "      <td>-0.578320</td>\n",
       "      <td>0.270436</td>\n",
       "      <td>-0.023428</td>\n",
       "      <td>0.168562</td>\n",
       "      <td>...</td>\n",
       "      <td>-0.472488</td>\n",
       "      <td>0.411475</td>\n",
       "      <td>0.035933</td>\n",
       "      <td>-0.469890</td>\n",
       "      <td>-0.006321</td>\n",
       "      <td>0.035528</td>\n",
       "      <td>-0.556103</td>\n",
       "      <td>0.287973</td>\n",
       "      <td>944438400</td>\n",
       "      <td>1</td>\n",
       "    </tr>\n",
       "    <tr>\n",
       "      <th>8804</th>\n",
       "      <td>-0.293306</td>\n",
       "      <td>-0.034618</td>\n",
       "      <td>-0.026011</td>\n",
       "      <td>0.304537</td>\n",
       "      <td>-0.098707</td>\n",
       "      <td>0.457255</td>\n",
       "      <td>-0.723094</td>\n",
       "      <td>-0.013567</td>\n",
       "      <td>0.762381</td>\n",
       "      <td>-0.135857</td>\n",
       "      <td>...</td>\n",
       "      <td>-0.581932</td>\n",
       "      <td>0.086664</td>\n",
       "      <td>-0.275735</td>\n",
       "      <td>0.235347</td>\n",
       "      <td>-0.841990</td>\n",
       "      <td>-0.334346</td>\n",
       "      <td>0.000593</td>\n",
       "      <td>0.290634</td>\n",
       "      <td>965779200</td>\n",
       "      <td>1</td>\n",
       "    </tr>\n",
       "    <tr>\n",
       "      <th>37791</th>\n",
       "      <td>0.134831</td>\n",
       "      <td>-0.057482</td>\n",
       "      <td>-0.097083</td>\n",
       "      <td>0.539844</td>\n",
       "      <td>0.079523</td>\n",
       "      <td>0.727579</td>\n",
       "      <td>-0.996090</td>\n",
       "      <td>-0.034164</td>\n",
       "      <td>0.530371</td>\n",
       "      <td>-0.268936</td>\n",
       "      <td>...</td>\n",
       "      <td>-0.658511</td>\n",
       "      <td>-0.024503</td>\n",
       "      <td>-0.555756</td>\n",
       "      <td>0.444350</td>\n",
       "      <td>-0.365405</td>\n",
       "      <td>-0.750380</td>\n",
       "      <td>0.009156</td>\n",
       "      <td>0.270973</td>\n",
       "      <td>966297600</td>\n",
       "      <td>1</td>\n",
       "    </tr>\n",
       "    <tr>\n",
       "      <th>23074</th>\n",
       "      <td>0.385678</td>\n",
       "      <td>0.524573</td>\n",
       "      <td>-1.609854</td>\n",
       "      <td>0.161960</td>\n",
       "      <td>0.575866</td>\n",
       "      <td>0.546592</td>\n",
       "      <td>-0.977845</td>\n",
       "      <td>0.828146</td>\n",
       "      <td>0.277647</td>\n",
       "      <td>1.273623</td>\n",
       "      <td>...</td>\n",
       "      <td>0.137208</td>\n",
       "      <td>-0.447914</td>\n",
       "      <td>-0.188943</td>\n",
       "      <td>-0.011633</td>\n",
       "      <td>-1.285488</td>\n",
       "      <td>-0.984702</td>\n",
       "      <td>-0.511050</td>\n",
       "      <td>0.356079</td>\n",
       "      <td>975974400</td>\n",
       "      <td>1</td>\n",
       "    </tr>\n",
       "  </tbody>\n",
       "</table>\n",
       "<p>5 rows × 52 columns</p>\n",
       "</div>"
      ],
      "text/plain": [
       "              0         1         2         3         4         5         6  \\\n",
       "38180  0.602437  0.717449 -0.631567  0.260387  0.330484 -0.055587 -0.389079   \n",
       "49777  0.492333 -0.046621  0.293875 -0.097375 -0.173121 -0.026032 -0.578320   \n",
       "8804  -0.293306 -0.034618 -0.026011  0.304537 -0.098707  0.457255 -0.723094   \n",
       "37791  0.134831 -0.057482 -0.097083  0.539844  0.079523  0.727579 -0.996090   \n",
       "23074  0.385678  0.524573 -1.609854  0.161960  0.575866  0.546592 -0.977845   \n",
       "\n",
       "              7         8         9   ...           42        43        44  \\\n",
       "38180 -0.270185  0.906017  0.195388   ...    -0.251031 -0.041619  0.135714   \n",
       "49777  0.270436 -0.023428  0.168562   ...    -0.472488  0.411475  0.035933   \n",
       "8804  -0.013567  0.762381 -0.135857   ...    -0.581932  0.086664 -0.275735   \n",
       "37791 -0.034164  0.530371 -0.268936   ...    -0.658511 -0.024503 -0.555756   \n",
       "23074  0.828146  0.277647  1.273623   ...     0.137208 -0.447914 -0.188943   \n",
       "\n",
       "             45        46        47        48        49       Time  s_Score  \n",
       "38180  0.076842 -0.736343 -0.281863  0.117228 -0.568302  944092800        1  \n",
       "49777 -0.469890 -0.006321  0.035528 -0.556103  0.287973  944438400        1  \n",
       "8804   0.235347 -0.841990 -0.334346  0.000593  0.290634  965779200        1  \n",
       "37791  0.444350 -0.365405 -0.750380  0.009156  0.270973  966297600        1  \n",
       "23074 -0.011633 -1.285488 -0.984702 -0.511050  0.356079  975974400        1  \n",
       "\n",
       "[5 rows x 52 columns]"
      ]
     },
     "execution_count": 7,
     "metadata": {},
     "output_type": "execute_result"
    }
   ],
   "source": [
    "final_analysis_file.head()"
   ]
  },
  {
   "cell_type": "markdown",
   "metadata": {},
   "source": [
    "### REMOVING ALL NAN VALUES"
   ]
  },
  {
   "cell_type": "code",
   "execution_count": 8,
   "metadata": {},
   "outputs": [
    {
     "data": {
      "text/plain": [
       "(59080, 52)"
      ]
     },
     "execution_count": 8,
     "metadata": {},
     "output_type": "execute_result"
    }
   ],
   "source": [
    "final_analysis_file= final_analysis_file[~np.isnan(final_analysis_file).any(axis = 1)]\n",
    "final_analysis_file.shape"
   ]
  },
  {
   "cell_type": "markdown",
   "metadata": {},
   "source": [
    "### SEPERATING FEATURE AND RESULT"
   ]
  },
  {
   "cell_type": "code",
   "execution_count": 10,
   "metadata": {},
   "outputs": [
    {
     "name": "stdout",
     "output_type": "stream",
     "text": [
      "[[ 0.60243696  0.71744931 -0.6315674   0.26038718  0.33048366 -0.05558743\n",
      "  -0.38907857 -0.27018475  0.90601682  0.19538827  0.44134503  0.65585296\n",
      "   0.08961625  0.2233037  -0.26983613 -0.23484565 -0.14630604  0.48827992\n",
      "   0.04616021 -0.22656861  0.30766356 -0.28599655 -0.41142982 -0.47797277\n",
      "  -0.15800801 -0.61701785  0.96566806 -0.47943768 -0.80317549  0.16155054\n",
      "   0.02699368  0.91441969 -0.71122471  0.25849211 -0.38259776  0.38540479\n",
      "   0.21978822 -0.81212574 -0.06407028 -0.06479076 -0.80488834 -0.76818657\n",
      "  -0.25103089 -0.04161918  0.13571379  0.07684196 -0.73634269 -0.28186342\n",
      "   0.11722819 -0.56830231]\n",
      " [ 0.49233315 -0.04662084  0.29387484 -0.09737546 -0.17312114 -0.02603162\n",
      "  -0.57831992  0.27043602 -0.02342819  0.16856213 -0.75815315 -0.44313496\n",
      "   0.30434961  0.11258636  0.27021512  0.09368142 -0.13209185  0.21844961\n",
      "   0.07928748  0.13234145 -0.08717376 -0.14682331 -0.7461824  -0.54296494\n",
      "  -0.3089344   0.11425101 -0.38790868  0.33053727 -0.66764264 -0.14574608\n",
      "   0.93796119  0.89533159 -0.25728826 -0.18065959  0.83624638  0.46147144\n",
      "  -0.36376084 -0.9600988  -0.06865399 -0.20404709 -0.33113071 -1.29435524\n",
      "  -0.47248787  0.41147482  0.03593271 -0.4698903  -0.00632133  0.03552778\n",
      "  -0.55610267  0.28797269]]\n",
      "[1 1]\n"
     ]
    }
   ],
   "source": [
    "X=final_analysis_file.iloc[: , 0:50].values\n",
    "y=final_analysis_file.iloc[: ,51].values\n",
    "print(X[:2,:])\n",
    "print(y[:2])"
   ]
  },
  {
   "cell_type": "markdown",
   "metadata": {},
   "source": [
    "### FEATURE SCALING"
   ]
  },
  {
   "cell_type": "code",
   "execution_count": 11,
   "metadata": {},
   "outputs": [
    {
     "data": {
      "text/plain": [
       "array([[ 1.21081484,  1.44997468, -0.57445827,  0.69472747,  1.35878575,\n",
       "        -0.24258234,  0.45972151, -0.62241269,  1.07017939,  0.32991977,\n",
       "         0.92556402,  1.73886296, -0.42719451,  0.08403465, -0.95130906,\n",
       "        -1.19272316, -0.05257784,  0.27877926,  0.46801941, -0.6053098 ,\n",
       "         0.40106042, -0.91206512, -0.49963629, -1.29725236, -0.00650862,\n",
       "        -0.95206712,  1.04520234, -1.19553919, -0.41720039, -0.56033666,\n",
       "        -0.46870564,  0.92331837, -1.50777333,  0.98809655, -0.53653123,\n",
       "         0.68592588,  0.94481819, -0.42784871, -0.75792318,  0.30553145,\n",
       "        -0.86161786, -0.61130493,  0.08971419,  0.10408738,  0.00816514,\n",
       "        -0.11705492, -0.83484902,  0.37860005,  0.33081983, -1.20437378]])"
      ]
     },
     "execution_count": 11,
     "metadata": {},
     "output_type": "execute_result"
    }
   ],
   "source": [
    "s = StandardScaler() #COLUMN STANDARISE\n",
    "X = s.fit_transform(X)\n",
    "X[:1, :]"
   ]
  },
  {
   "cell_type": "markdown",
   "metadata": {},
   "source": [
    "## KNN WITH K-FOLD CV (K=5)"
   ]
  },
  {
   "cell_type": "markdown",
   "metadata": {},
   "source": [
    "#### Splitting the data into Train and Test"
   ]
  },
  {
   "cell_type": "code",
   "execution_count": 12,
   "metadata": {
    "collapsed": true
   },
   "outputs": [],
   "source": [
    "X_train, X_test, y_train, y_test = train_test_split(X, y, test_size = 0.3, random_state = 123)"
   ]
  },
  {
   "cell_type": "markdown",
   "metadata": {},
   "source": [
    "#### K vs Test Accuracy - Finding the right value of K"
   ]
  },
  {
   "cell_type": "code",
   "execution_count": 12,
   "metadata": {},
   "outputs": [
    {
     "name": "stdout",
     "output_type": "stream",
     "text": [
      "1\n",
      "3\n",
      "5\n",
      "7\n",
      "9\n",
      "11\n",
      "13\n",
      "15\n",
      "17\n",
      "19\n",
      "21\n",
      "23\n",
      "25\n",
      "27\n",
      "29\n",
      "31\n",
      "33\n",
      "35\n",
      "37\n",
      "39\n",
      "41\n",
      "43\n",
      "45\n",
      "47\n",
      "49\n",
      "\n",
      "The optimal number of neighbors is 23.\n"
     ]
    }
   ],
   "source": [
    "# creating odd list of K for KNN\n",
    "neighbors = list(range(1,50,2))\n",
    "# empty list that will hold cv scores\n",
    "cv_scores = []\n",
    "# perform 5-fold cross validation\n",
    "for k in neighbors:\n",
    "    knn = KNeighborsClassifier(n_neighbors=k)\n",
    "    scores = cross_val_score(knn, X_train, y_train, cv=5, scoring='accuracy')\n",
    "    cv_scores.append(scores.mean())\n",
    "    print(k)\n",
    "# changing to misclassification error\n",
    "MSE = [1 - x for x in cv_scores]\n",
    "# determining best k\n",
    "optimal_k = neighbors[MSE.index(min(MSE))]\n",
    "print('\\nThe optimal number of neighbors is %d.' % optimal_k)"
   ]
  },
  {
   "cell_type": "markdown",
   "metadata": {},
   "source": [
    "#### the above printed value is just for cheaking the program running properly or it will go into infinite ."
   ]
  },
  {
   "cell_type": "code",
   "execution_count": 13,
   "metadata": {},
   "outputs": [
    {
     "data": {
      "image/png": "[encoded data removed]",
      "text/plain": [
       "<matplotlib.figure.Figure at 0xde553c8>"
      ]
     },
     "metadata": {},
     "output_type": "display_data"
    }
   ],
   "source": [
    "# plot misclassification error vs k \n",
    "plt.plot(neighbors, MSE)\n",
    "plt.xlabel('Number of Neighbors K')\n",
    "plt.ylabel('Misclassification Error')\n",
    "plt.show()"
   ]
  },
  {
   "cell_type": "markdown",
   "metadata": {},
   "source": [
    "#### FINDING THE OPTIMAL K VALUE"
   ]
  },
  {
   "cell_type": "markdown",
   "metadata": {},
   "source": [
    "#### Fitting KNN to the  Training set results"
   ]
  },
  {
   "cell_type": "code",
   "execution_count": 14,
   "metadata": {},
   "outputs": [
    {
     "data": {
      "text/plain": [
       "KNeighborsClassifier(algorithm='auto', leaf_size=30, metric='minkowski',\n",
       "           metric_params=None, n_jobs=1, n_neighbors=23, p=2,\n",
       "           weights='uniform')"
      ]
     },
     "execution_count": 14,
     "metadata": {},
     "output_type": "execute_result"
    }
   ],
   "source": [
    "classifier = KNeighborsClassifier(n_neighbors = optimal_k)\n",
    "classifier.fit(X_train, y_train)"
   ]
  },
  {
   "cell_type": "markdown",
   "metadata": {},
   "source": [
    "#### Predicting and Visualising Test set results"
   ]
  },
  {
   "cell_type": "code",
   "execution_count": 15,
   "metadata": {
    "collapsed": true
   },
   "outputs": [],
   "source": [
    "y_pred = classifier.predict(X_test)"
   ]
  },
  {
   "cell_type": "markdown",
   "metadata": {},
   "source": [
    "#### Predicting the test results accuracy¶"
   ]
  },
  {
   "cell_type": "code",
   "execution_count": 16,
   "metadata": {},
   "outputs": [
    {
     "data": {
      "text/plain": [
       "84.568946061837053"
      ]
     },
     "execution_count": 16,
     "metadata": {},
     "output_type": "execute_result"
    }
   ],
   "source": [
    "acc = accuracy_score(y_test, y_pred, normalize=True) * float(100)\n",
    "acc"
   ]
  },
  {
   "cell_type": "markdown",
   "metadata": {},
   "source": [
    "## SIMPLE KNN WITHOUT CV"
   ]
  },
  {
   "cell_type": "markdown",
   "metadata": {},
   "source": [
    "#### spliting the data set into folllowing"
   ]
  },
  {
   "cell_type": "code",
   "execution_count": null,
   "metadata": {
    "collapsed": true
   },
   "outputs": [],
   "source": [
    "X_train, X_test, y_train, y_test = train_test_split(X, y, test_size = 0.3, random_state = 123)"
   ]
  },
  {
   "cell_type": "markdown",
   "metadata": {},
   "source": [
    "#### finding optimal value of k and visualising using graph"
   ]
  },
  {
   "cell_type": "code",
   "execution_count": 13,
   "metadata": {},
   "outputs": [
    {
     "name": "stdout",
     "output_type": "stream",
     "text": [
      "\n",
      "The optimal number of neighbors is 21.\n"
     ]
    },
    {
     "data": {
      "image/png": "[encoded data removed]",
      "text/plain": [
       "<matplotlib.figure.Figure at 0xd4f54a8>"
      ]
     },
     "metadata": {},
     "output_type": "display_data"
    }
   ],
   "source": [
    "k_list = list(range(1,50,2))\n",
    "acc_list = []\n",
    "for k in k_list:\n",
    "    classifier = KNeighborsClassifier(n_neighbors = k)\n",
    "    classifier.fit(X_train, y_train)\n",
    "    y_pred = classifier.predict(X_test)    ## Predicting the accuracy on test set\n",
    "    acc_list.append(accuracy_score(y_test, y_pred, normalize=True) * float(100))\n",
    "optimal_k = k_list[acc_list.index(max(acc_list))]\n",
    "print('\\nThe optimal number of neighbors is %d.' % optimal_k)\n",
    "plt.plot(k_list, acc_list)\n",
    "plt.xlabel('K-values')\n",
    "plt.ylabel('Test Accuracy')\n",
    "plt.title('K vs Test Accuracy')\n",
    "plt.ylim(70, 100)\n",
    "plt.show()"
   ]
  },
  {
   "cell_type": "markdown",
   "metadata": {},
   "source": [
    "#### Fitting KNN to the Training set results"
   ]
  },
  {
   "cell_type": "code",
   "execution_count": 14,
   "metadata": {},
   "outputs": [
    {
     "data": {
      "text/plain": [
       "KNeighborsClassifier(algorithm='auto', leaf_size=30, metric='minkowski',\n",
       "           metric_params=None, n_jobs=1, n_neighbors=21, p=2,\n",
       "           weights='uniform')"
      ]
     },
     "execution_count": 14,
     "metadata": {},
     "output_type": "execute_result"
    }
   ],
   "source": [
    "classifier = KNeighborsClassifier(n_neighbors = optimal_k)    ## Change the values of n_neighbors\n",
    "classifier.fit(X_train, y_train)"
   ]
  },
  {
   "cell_type": "markdown",
   "metadata": {},
   "source": [
    "#### Predicting and Visualising Test set results"
   ]
  },
  {
   "cell_type": "code",
   "execution_count": 15,
   "metadata": {
    "collapsed": true
   },
   "outputs": [],
   "source": [
    "y_pred = classifier.predict(X_test)"
   ]
  },
  {
   "cell_type": "markdown",
   "metadata": {},
   "source": [
    "####  Predicting the test results accuracy¶"
   ]
  },
  {
   "cell_type": "code",
   "execution_count": 16,
   "metadata": {},
   "outputs": [
    {
     "data": {
      "text/plain": [
       "84.568946061837053"
      ]
     },
     "execution_count": 16,
     "metadata": {},
     "output_type": "execute_result"
    }
   ],
   "source": [
    "acc = accuracy_score(y_test, y_pred, normalize=True) * float(100)\n",
    "acc"
   ]
  },
  {
   "cell_type": "markdown",
   "metadata": {},
   "source": [
    "## KNN WITH SIMPLE CROSS VALIDATION"
   ]
  },
  {
   "cell_type": "markdown",
   "metadata": {},
   "source": [
    "#### spliting the data set into folllowing¶"
   ]
  },
  {
   "cell_type": "code",
   "execution_count": 18,
   "metadata": {
    "collapsed": true
   },
   "outputs": [],
   "source": [
    "X_1, X_test, y_1, y_test = train_test_split(X, y, test_size = 0.3, random_state = 123)\n",
    "X_train, X_cv, y_train, y_cv = train_test_split(X_1, y_1, test_size = 0.3, random_state = 123)"
   ]
  },
  {
   "cell_type": "markdown",
   "metadata": {},
   "source": [
    "#### finding optimal value of k and visualising using graph"
   ]
  },
  {
   "cell_type": "code",
   "execution_count": 19,
   "metadata": {},
   "outputs": [
    {
     "name": "stdout",
     "output_type": "stream",
     "text": [
      "...\n",
      "...\n",
      "...\n",
      "...\n",
      "...\n",
      "...\n",
      "...\n",
      "...\n",
      "...\n",
      "...\n",
      "...\n",
      "...\n",
      "...\n",
      "...\n",
      "...\n",
      "...\n",
      "...\n",
      "...\n",
      "...\n",
      "...\n",
      "...\n",
      "...\n",
      "...\n",
      "...\n",
      "...\n",
      "\n",
      "The optimal number of neighbors is 15.\n"
     ]
    },
    {
     "data": {
      "image/png": "[encoded data removed]",
      "text/plain": [
       "<matplotlib.figure.Figure at 0xd6f8940>"
      ]
     },
     "metadata": {},
     "output_type": "display_data"
    }
   ],
   "source": [
    "k_list = list(range(1,50,2))\n",
    "acc_list = []\n",
    "for k in k_list:\n",
    "    classifier = KNeighborsClassifier(n_neighbors = k)\n",
    "    classifier.fit(X_train, y_train)\n",
    "    y_pred = classifier.predict(X_cv)    ## Predicting the accuracy on CV set\n",
    "    acc_list.append(accuracy_score(y_cv, y_pred, normalize=True) * float(100))\n",
    "    print(\"...\")\n",
    "optimal_k = k_list[acc_list.index(max(acc_list))]\n",
    "print('\\nThe optimal number of neighbors is %d.' % optimal_k)\n",
    "plt.plot(k_list, acc_list)\n",
    "plt.xlabel('K-values')\n",
    "plt.ylabel('CV Accuracy')\n",
    "plt.title('K vs CV Accuracy')\n",
    "plt.ylim(70,100)\n",
    "plt.show()"
   ]
  },
  {
   "cell_type": "markdown",
   "metadata": {},
   "source": [
    "#### Fitting KNN to the Training set results"
   ]
  },
  {
   "cell_type": "code",
   "execution_count": 20,
   "metadata": {},
   "outputs": [
    {
     "data": {
      "text/plain": [
       "KNeighborsClassifier(algorithm='auto', leaf_size=30, metric='minkowski',\n",
       "           metric_params=None, n_jobs=1, n_neighbors=15, p=2,\n",
       "           weights='uniform')"
      ]
     },
     "execution_count": 20,
     "metadata": {},
     "output_type": "execute_result"
    }
   ],
   "source": [
    "classifier = KNeighborsClassifier(n_neighbors = optimal_k)\n",
    "classifier.fit(X_train, y_train)"
   ]
  },
  {
   "cell_type": "markdown",
   "metadata": {},
   "source": [
    "####  Predicting Test set results"
   ]
  },
  {
   "cell_type": "code",
   "execution_count": 21,
   "metadata": {
    "collapsed": true
   },
   "outputs": [],
   "source": [
    "y_pred = classifier.predict(X_test)"
   ]
  },
  {
   "cell_type": "markdown",
   "metadata": {},
   "source": [
    "#### Predicting the test results accuracy¶"
   ]
  },
  {
   "cell_type": "code",
   "execution_count": 22,
   "metadata": {},
   "outputs": [
    {
     "data": {
      "text/plain": [
       "84.540735725569846"
      ]
     },
     "execution_count": 22,
     "metadata": {},
     "output_type": "execute_result"
    }
   ],
   "source": [
    "acc = accuracy_score(y_test, y_pred, normalize=True) * float(100)\n",
    "acc"
   ]
  },
  {
   "cell_type": "code",
   "execution_count": 23,
   "metadata": {
    "collapsed": true
   },
   "outputs": [],
   "source": [
    " from sklearn.metrics import confusion_matrix"
   ]
  },
  {
   "cell_type": "code",
   "execution_count": 29,
   "metadata": {},
   "outputs": [
    {
     "data": {
      "text/plain": [
       "array([[    4,     8],\n",
       "       [ 2732, 14980]], dtype=int64)"
      ]
     },
     "execution_count": 29,
     "metadata": {},
     "output_type": "execute_result"
    }
   ],
   "source": [
    "confusion_matrix(y_test, y_pred).T"
   ]
  },
  {
   "cell_type": "code",
   "execution_count": null,
   "metadata": {
    "collapsed": true
   },
   "outputs": [],
   "source": []
  }
 ],
 "metadata": {
  "kernelspec": {
   "display_name": "Python 3",
   "language": "python",
   "name": "python3"
  },
  "language_info": {
   "codemirror_mode": {
    "name": "ipython",
    "version": 3
   },
   "file_extension": ".py",
   "mimetype": "text/x-python",
   "name": "python",
   "nbconvert_exporter": "python",
   "pygments_lexer": "ipython3",
   "version": "3.6.3"
  }
 },
 "nbformat": 4,
 "nbformat_minor": 2
}
